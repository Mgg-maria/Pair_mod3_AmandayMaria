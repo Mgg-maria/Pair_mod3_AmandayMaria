{
 "cells": [
  {
   "cell_type": "markdown",
   "metadata": {},
   "source": [
    "1. Crea un array 1D con 50 valores aleatorio del 10 al 99. Accede a los elementos en las posiciones múltiplos de 5.\n"
   ]
  },
  {
   "cell_type": "code",
   "execution_count": 1,
   "metadata": {},
   "outputs": [],
   "source": [
    "import numpy as np"
   ]
  },
  {
   "cell_type": "code",
   "execution_count": 3,
   "metadata": {},
   "outputs": [
    {
     "name": "stdout",
     "output_type": "stream",
     "text": [
      "[75 68 20 60 66 52 72 71 53 64 57 90 87 14 15 64 88 62 11 37 39 25 46 75\n",
      " 46 42 68 27 22 94 16 43 80 86 70 42 97 80 95 84 53 12 63 95 13 24 55 81\n",
      " 77 73]\n"
     ]
    }
   ],
   "source": [
    "array = np.random.randint(10,100,50)\n",
    "print(array)"
   ]
  },
  {
   "cell_type": "code",
   "execution_count": 4,
   "metadata": {},
   "outputs": [
    {
     "data": {
      "text/plain": [
       "50"
      ]
     },
     "execution_count": 4,
     "metadata": {},
     "output_type": "execute_result"
    }
   ],
   "source": [
    "len(array)"
   ]
  },
  {
   "cell_type": "code",
   "execution_count": null,
   "metadata": {},
   "outputs": [
    {
     "name": "stdout",
     "output_type": "stream",
     "text": [
      "[75 52 57 64 39 42 16 42 53 24]\n"
     ]
    }
   ],
   "source": [
    "# Queremos sacar que el índice  sea múltiple de 5\n",
    "\n",
    "múltiplos_de_5 = array[::5]\n",
    "print(múltiplos_de_5)"
   ]
  },
  {
   "cell_type": "markdown",
   "metadata": {},
   "source": [
    "2. Crea un array 1D con 30 valores aleatorios del 1 al 20 (ambos incluidos). Utiliza indexación para obtener los elementos en las posiciones impares."
   ]
  },
  {
   "cell_type": "code",
   "execution_count": 10,
   "metadata": {},
   "outputs": [
    {
     "name": "stdout",
     "output_type": "stream",
     "text": [
      "[ 7  4  6  4 19  8 17 10 12  7 14  4  4 17 13 17 18 11 14  1 17  7 12  1\n",
      " 11  5 12  4 20  6]\n"
     ]
    }
   ],
   "source": [
    "array = np.random.randint(1,21,30)\n",
    "print(array)"
   ]
  },
  {
   "cell_type": "code",
   "execution_count": null,
   "metadata": {},
   "outputs": [
    {
     "data": {
      "text/plain": [
       "array([ 4,  4,  8, 10,  7,  4, 17, 17, 11,  1,  7,  1,  5,  4,  6])"
      ]
     },
     "execution_count": 13,
     "metadata": {},
     "output_type": "execute_result"
    }
   ],
   "source": [
    "# En Python, los índices comienzan desde 0, no contamos el 0 en este caso porque no es impar. \n",
    "# Las posiciones impares serán 1, 3, 5, etc. Comenzamos desde el índice 1 (que es el segundo elemento) \n",
    "# Y saltamos de 2 en 2 para obtener solo los elementos en posiciones impares\n",
    "\n",
    "array[1::2]"
   ]
  },
  {
   "cell_type": "markdown",
   "metadata": {},
   "source": [
    "3. Crea un array 2D de forma (4, 6) con números aleatorios decimales (no deben estar comprendidos solo entre 0 y 1). Accede a la última fila de la matriz. Los decimales deben estar redondeados a 2 decimales."
   ]
  },
  {
   "cell_type": "code",
   "execution_count": 20,
   "metadata": {},
   "outputs": [
    {
     "data": {
      "text/plain": [
       "array([[0.99113417, 0.52066428, 0.39113815, 0.32702256, 0.62707991,\n",
       "        0.15205313],\n",
       "       [0.43054235, 0.8540919 , 0.38206718, 0.98102084, 0.31209246,\n",
       "        0.13296166],\n",
       "       [0.27556297, 0.2616084 , 0.50614569, 0.87507433, 0.49375759,\n",
       "        0.12172735],\n",
       "       [0.96324404, 0.58202523, 0.90068502, 0.16453323, 0.24601662,\n",
       "        0.16621842]])"
      ]
     },
     "execution_count": 20,
     "metadata": {},
     "output_type": "execute_result"
    }
   ],
   "source": [
    "bidimensional = np.random.rand(4,6)\n",
    "bidimensional"
   ]
  },
  {
   "cell_type": "code",
   "execution_count": 27,
   "metadata": {},
   "outputs": [
    {
     "name": "stdout",
     "output_type": "stream",
     "text": [
      "[[99.11341707 52.06642845 39.11381527 32.70225627 62.70799119 15.2053128 ]\n",
      " [43.0542351  85.40919014 38.20671846 98.10208411 31.20924627 13.29616624]\n",
      " [27.55629721 26.16083966 50.61456883 87.50743312 49.37575903 12.17273486]\n",
      " [96.32440424 58.20252338 90.06850191 16.45332251 24.60166187 16.62184208]]\n"
     ]
    }
   ],
   "source": [
    "mascara = bidimensional * 100\n",
    "print(mascara)"
   ]
  },
  {
   "cell_type": "code",
   "execution_count": 29,
   "metadata": {},
   "outputs": [],
   "source": [
    "ultima_fila = mascara[-1]\n"
   ]
  },
  {
   "cell_type": "code",
   "execution_count": 31,
   "metadata": {},
   "outputs": [
    {
     "name": "stdout",
     "output_type": "stream",
     "text": [
      "[96.32 58.2  90.07 16.45 24.6  16.62]\n"
     ]
    }
   ],
   "source": [
    "redondeo = np.round(ultima_fila,2)\n",
    "print(redondeo)"
   ]
  },
  {
   "cell_type": "markdown",
   "metadata": {},
   "source": [
    "1. Crea un array de tres 3D con elementos entre el 0 y 1 de forma (2, 3, 5) cuyos valores solo tengan 1 decimal."
   ]
  },
  {
   "cell_type": "code",
   "execution_count": 33,
   "metadata": {},
   "outputs": [
    {
     "data": {
      "text/plain": [
       "array([[[0.47776901, 0.62773629, 0.1920658 , 0.92361926, 0.90363268],\n",
       "        [0.7452964 , 0.93740163, 0.70710138, 0.18841876, 0.21378938],\n",
       "        [0.58886133, 0.89246928, 0.21194179, 0.73432517, 0.48109649]],\n",
       "\n",
       "       [[0.97348768, 0.19279617, 0.83537862, 0.05062547, 0.63220508],\n",
       "        [0.5366227 , 0.20178084, 0.4141292 , 0.52692646, 0.85699662],\n",
       "        [0.50910597, 0.47632033, 0.68873929, 0.68769511, 0.31302105]]])"
      ]
     },
     "execution_count": 33,
     "metadata": {},
     "output_type": "execute_result"
    }
   ],
   "source": [
    "array_3d = np.random.rand(2,3,5)\n",
    "array_3d"
   ]
  },
  {
   "cell_type": "code",
   "execution_count": 34,
   "metadata": {},
   "outputs": [
    {
     "data": {
      "text/plain": [
       "array([[[0.5, 0.6, 0.2, 0.9, 0.9],\n",
       "        [0.7, 0.9, 0.7, 0.2, 0.2],\n",
       "        [0.6, 0.9, 0.2, 0.7, 0.5]],\n",
       "\n",
       "       [[1. , 0.2, 0.8, 0.1, 0.6],\n",
       "        [0.5, 0.2, 0.4, 0.5, 0.9],\n",
       "        [0.5, 0.5, 0.7, 0.7, 0.3]]])"
      ]
     },
     "execution_count": 34,
     "metadata": {},
     "output_type": "execute_result"
    }
   ],
   "source": [
    "redondeo = np.round(array_3d,1)\n",
    "redondeo"
   ]
  },
  {
   "cell_type": "markdown",
   "metadata": {},
   "source": [
    "2.Crea un array vacío con la misma forma y dimensiones que el array creado anteriormente. Vamos a reemplazar los valores de la matriz vacía que nos acabamos de crear pero basándonos en los valores del primer array bajo las siguientes condiciones:"
   ]
  },
  {
   "cell_type": "code",
   "execution_count": 40,
   "metadata": {},
   "outputs": [
    {
     "data": {
      "text/plain": [
       "array([[['', '', '', '', ''],\n",
       "        ['', '', '', '', ''],\n",
       "        ['', '', '', '', '']],\n",
       "\n",
       "       [['', '', '', '', ''],\n",
       "        ['', '', '', '', ''],\n",
       "        ['', '', '', '', '']]], dtype='<U1')"
      ]
     },
     "execution_count": 40,
     "metadata": {},
     "output_type": "execute_result"
    }
   ],
   "source": [
    "array_vacio = np.empty((2,3,5),dtype=str)\n",
    "array_vacio"
   ]
  },
  {
   "cell_type": "markdown",
   "metadata": {},
   "source": [
    "\n",
    "Si el valor del array es igual que la media, se reemplaza por \"A\"."
   ]
  },
  {
   "cell_type": "code",
   "execution_count": null,
   "metadata": {},
   "outputs": [
    {
     "data": {
      "text/plain": [
       "0.5533333333333333"
      ]
     },
     "execution_count": 37,
     "metadata": {},
     "output_type": "execute_result"
    }
   ],
   "source": [
    "media = np.mean(array_3d)\n",
    "print(media)"
   ]
  },
  {
   "cell_type": "code",
   "execution_count": null,
   "metadata": {},
   "outputs": [
    {
     "data": {
      "text/plain": [
       "16.6"
      ]
     },
     "execution_count": 38,
     "metadata": {},
     "output_type": "execute_result"
    }
   ],
   "source": [
    "suma = np.sum(array_3d)\n",
    "suma"
   ]
  },
  {
   "cell_type": "code",
   "execution_count": null,
   "metadata": {},
   "outputs": [],
   "source": [
    "# Falta añadir un where para reemplazar por \"A\""
   ]
  },
  {
   "cell_type": "code",
   "execution_count": 39,
   "metadata": {},
   "outputs": [
    {
     "data": {
      "text/plain": [
       "True"
      ]
     },
     "execution_count": 39,
     "metadata": {},
     "output_type": "execute_result"
    }
   ],
   "source": [
    "mascara = (suma >= media)\n",
    "mascara"
   ]
  },
  {
   "cell_type": "code",
   "execution_count": null,
   "metadata": {},
   "outputs": [],
   "source": []
  }
 ],
 "metadata": {
  "kernelspec": {
   "display_name": "base",
   "language": "python",
   "name": "python3"
  },
  "language_info": {
   "codemirror_mode": {
    "name": "ipython",
    "version": 3
   },
   "file_extension": ".py",
   "mimetype": "text/x-python",
   "name": "python",
   "nbconvert_exporter": "python",
   "pygments_lexer": "ipython3",
   "version": "3.12.7"
  }
 },
 "nbformat": 4,
 "nbformat_minor": 2
}
